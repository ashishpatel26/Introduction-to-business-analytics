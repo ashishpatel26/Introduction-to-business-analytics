{
 "cells": [
  {
   "cell_type": "markdown",
   "metadata": {},
   "source": [
    "# Contents-based filtering algorithm for movielens 100k data\n",
    "- reference: https://acodeforthought.wordpress.com/2016/12/29/building-a-recommender-system-on-user-user-collaborative-filtering-movielens-dataset/"
   ]
  },
  {
   "cell_type": "code",
   "execution_count": 1,
   "metadata": {
    "collapsed": true
   },
   "outputs": [],
   "source": [
    "import pandas as pd\n",
    "import numpy as np\n",
    "import math"
   ]
  },
  {
   "cell_type": "markdown",
   "metadata": {},
   "source": [
    "## Data import\n",
    "- movielens 100k dataset 으로부터 3가지 데이터 셋을 불러온다\n",
    "    - **u.user**: 각 user에 대한 정보(demographic information about each user)\n",
    "    - **u.item**: 각 영화에 대한 정보(description regarding each item, i.e., each movie)\n",
    "    - **u.data**: 각 user의 영화에 대한 평가(rating of each user regarding an item)"
   ]
  },
  {
   "cell_type": "code",
   "execution_count": 2,
   "metadata": {
    "collapsed": true
   },
   "outputs": [],
   "source": [
    "# 각 데이터(user, item, rating)의 열 이름(column name)을 정의한다\n",
    "user_cols = ['user id','age','gender','occupation','zip code']\n",
    "item_cols = ['movie id','movie title','release date','video release date','IMDb URL','unknown','Action','Adventure','Animation','Childrens','Comedy','Crime','Documentary','Drama','Fantasy','Film-Noir','Horror','Musical','Mystery','Romance ','Sci-Fi','Thriller','War' ,'Western']\n",
    "rating_cols = ['user id','movie id','rating','timestamp']"
   ]
  },
  {
   "cell_type": "code",
   "execution_count": 3,
   "metadata": {
    "collapsed": true
   },
   "outputs": [],
   "source": [
    "# pandas의 read_csv() 함수를 활용해 각 데이터셋을 불러온다\n",
    "users = pd.read_csv('ml-100k/u.user', sep = '|', names = user_cols, encoding = 'latin-1')       \n",
    "items = pd.read_csv('ml-100k/u.item', sep = '|', names = item_cols, encoding = 'latin-1')\n",
    "ratings = pd.read_csv('ml-100k/u.data', sep = '\\t', names = rating_cols, encoding = 'latin-1')"
   ]
  },
  {
   "cell_type": "markdown",
   "metadata": {},
   "source": [
    "### Dataset description"
   ]
  },
  {
   "cell_type": "code",
   "execution_count": 4,
   "metadata": {},
   "outputs": [
    {
     "name": "stdout",
     "output_type": "stream",
     "text": [
      "(943, 5)\n",
      "(1682, 24)\n",
      "(100000, 4)\n"
     ]
    }
   ],
   "source": [
    "print(users.shape)     # 943 users in total\n",
    "print(items.shape)     # 1682 items (i.e., movies) in total\n",
    "print(ratings.shape)   # 100000 ratings in total"
   ]
  },
  {
   "cell_type": "code",
   "execution_count": 5,
   "metadata": {},
   "outputs": [
    {
     "name": "stdout",
     "output_type": "stream",
     "text": [
      "   user id  age gender  occupation zip code\n",
      "0        1   24      M  technician    85711\n",
      "1        2   53      F       other    94043\n",
      "2        3   23      M      writer    32067\n",
      "3        4   24      M  technician    43537\n",
      "4        5   33      F       other    15213\n"
     ]
    }
   ],
   "source": [
    "print(users.head())    # users dataframe의 첫 5 행의 데이터"
   ]
  },
  {
   "cell_type": "code",
   "execution_count": 6,
   "metadata": {
    "scrolled": true
   },
   "outputs": [
    {
     "name": "stdout",
     "output_type": "stream",
     "text": [
      "   movie id        movie title release date  video release date  \\\n",
      "0         1   Toy Story (1995)  01-Jan-1995                 NaN   \n",
      "1         2   GoldenEye (1995)  01-Jan-1995                 NaN   \n",
      "2         3  Four Rooms (1995)  01-Jan-1995                 NaN   \n",
      "3         4  Get Shorty (1995)  01-Jan-1995                 NaN   \n",
      "4         5     Copycat (1995)  01-Jan-1995                 NaN   \n",
      "\n",
      "                                            IMDb URL  unknown  Action  \\\n",
      "0  http://us.imdb.com/M/title-exact?Toy%20Story%2...        0       0   \n",
      "1  http://us.imdb.com/M/title-exact?GoldenEye%20(...        0       1   \n",
      "2  http://us.imdb.com/M/title-exact?Four%20Rooms%...        0       0   \n",
      "3  http://us.imdb.com/M/title-exact?Get%20Shorty%...        0       1   \n",
      "4  http://us.imdb.com/M/title-exact?Copycat%20(1995)        0       0   \n",
      "\n",
      "   Adventure  Animation  Childrens   ...     Fantasy  Film-Noir  Horror  \\\n",
      "0          0          1          1   ...           0          0       0   \n",
      "1          1          0          0   ...           0          0       0   \n",
      "2          0          0          0   ...           0          0       0   \n",
      "3          0          0          0   ...           0          0       0   \n",
      "4          0          0          0   ...           0          0       0   \n",
      "\n",
      "   Musical  Mystery  Romance   Sci-Fi  Thriller  War  Western  \n",
      "0        0        0         0       0         0    0        0  \n",
      "1        0        0         0       0         1    0        0  \n",
      "2        0        0         0       0         1    0        0  \n",
      "3        0        0         0       0         0    0        0  \n",
      "4        0        0         0       0         1    0        0  \n",
      "\n",
      "[5 rows x 24 columns]\n"
     ]
    }
   ],
   "source": [
    "print(items.head())    # items dataframe의 첫 5 행의 데이타"
   ]
  },
  {
   "cell_type": "code",
   "execution_count": 7,
   "metadata": {},
   "outputs": [
    {
     "name": "stdout",
     "output_type": "stream",
     "text": [
      "   user id  movie id  rating  timestamp\n",
      "0      196       242       3  881250949\n",
      "1      186       302       3  891717742\n",
      "2       22       377       1  878887116\n",
      "3      244        51       2  880606923\n",
      "4      166       346       1  886397596\n"
     ]
    }
   ],
   "source": [
    "print(ratings.head())    # ratings dataframe의 첫 5 행의 데이타"
   ]
  },
  {
   "cell_type": "markdown",
   "metadata": {},
   "source": [
    "## Data preprocessing"
   ]
  },
  {
   "cell_type": "markdown",
   "metadata": {},
   "source": [
    "### train-test split\n",
    "- 학습 데이터와 검증 데이터로 전체 데이터셋을 나눈다\n",
    "- user id를 기준으로 ratings 데이터를 sorting한 후 99832번째 관측치까지는 학습 데이터로, 99833번째 관측치부터는 검증 데이터로 할당한다\n",
    "- 그 결과 user id 1부터 942까지의 관측치는 학습 데이터가 되고, user id 943과 관련된 관측치는 검증 데이터가 된다\n",
    "- 즉, 우리는 영화 간의 유사도와 943번째 user의 선호를 통해 그가 좋아할 만한 영화를 예측해 본다"
   ]
  },
  {
   "cell_type": "code",
   "execution_count": 17,
   "metadata": {
    "collapsed": true
   },
   "outputs": [],
   "source": [
    "ratings_train = (ratings.sort_values('user id'))[:99832]    \n",
    "ratings_test = (ratings.sort_values('user id'))[99833:]"
   ]
  },
  {
   "cell_type": "code",
   "execution_count": 18,
   "metadata": {},
   "outputs": [
    {
     "name": "stdout",
     "output_type": "stream",
     "text": [
      "(99832, 4)\n",
      "(167, 4)\n"
     ]
    }
   ],
   "source": [
    "print(ratings_train.shape)\n",
    "print(ratings_test.shape)"
   ]
  },
  {
   "cell_type": "code",
   "execution_count": 10,
   "metadata": {
    "scrolled": false
   },
   "outputs": [
    {
     "name": "stdout",
     "output_type": "stream",
     "text": [
      "       user id  movie id  rating  timestamp\n",
      "66567        1        55       5  875072688\n",
      "62820        1       203       4  878542231\n",
      "10207        1       183       5  875072262\n",
      "9971         1       150       5  876892196\n",
      "22496        1        68       4  875072688\n",
      "\n",
      "       user id  movie id  rating  timestamp\n",
      "73676      942       479       4  891283118\n",
      "67222      942       604       4  891283139\n",
      "95675      942       478       5  891283017\n",
      "85822      942       659       5  891283161\n",
      "68192      942       487       4  891282985\n",
      "\n",
      "       user id  movie id  rating  timestamp\n",
      "91841      943       132       3  888639093\n",
      "91810      943       204       3  888639117\n",
      "77956      943        94       4  888639929\n",
      "87415      943        53       3  888640067\n",
      "77609      943       124       3  875501995\n",
      "\n",
      "       user id  movie id  rating  timestamp\n",
      "96823      943       427       4  888639147\n",
      "70902      943        12       5  888639093\n",
      "84518      943       284       2  875502192\n",
      "72321      943        62       3  888640003\n",
      "70713      943       210       4  888639147\n"
     ]
    }
   ],
   "source": [
    "print(ratings_train.head())\n",
    "print()\n",
    "print(ratings_train.tail())\n",
    "print()\n",
    "print(ratings_test.head())\n",
    "print()\n",
    "print(ratings_test.tail())"
   ]
  },
  {
   "cell_type": "code",
   "execution_count": 23,
   "metadata": {
    "scrolled": true
   },
   "outputs": [
    {
     "data": {
      "text/html": [
       "<div>\n",
       "<style>\n",
       "    .dataframe thead tr:only-child th {\n",
       "        text-align: right;\n",
       "    }\n",
       "\n",
       "    .dataframe thead th {\n",
       "        text-align: left;\n",
       "    }\n",
       "\n",
       "    .dataframe tbody tr th {\n",
       "        vertical-align: top;\n",
       "    }\n",
       "</style>\n",
       "<table border=\"1\" class=\"dataframe\">\n",
       "  <thead>\n",
       "    <tr style=\"text-align: right;\">\n",
       "      <th></th>\n",
       "      <th>user id</th>\n",
       "      <th>movie id</th>\n",
       "      <th>rating</th>\n",
       "      <th>timestamp</th>\n",
       "    </tr>\n",
       "  </thead>\n",
       "  <tbody>\n",
       "    <tr>\n",
       "      <th>80302</th>\n",
       "      <td>943</td>\n",
       "      <td>721</td>\n",
       "      <td>5</td>\n",
       "      <td>888639660</td>\n",
       "    </tr>\n",
       "    <tr>\n",
       "      <th>88402</th>\n",
       "      <td>943</td>\n",
       "      <td>614</td>\n",
       "      <td>5</td>\n",
       "      <td>888639351</td>\n",
       "    </tr>\n",
       "    <tr>\n",
       "      <th>95175</th>\n",
       "      <td>943</td>\n",
       "      <td>201</td>\n",
       "      <td>5</td>\n",
       "      <td>888639351</td>\n",
       "    </tr>\n",
       "    <tr>\n",
       "      <th>85387</th>\n",
       "      <td>943</td>\n",
       "      <td>79</td>\n",
       "      <td>5</td>\n",
       "      <td>888639019</td>\n",
       "    </tr>\n",
       "    <tr>\n",
       "      <th>83794</th>\n",
       "      <td>943</td>\n",
       "      <td>42</td>\n",
       "      <td>5</td>\n",
       "      <td>888639042</td>\n",
       "    </tr>\n",
       "    <tr>\n",
       "      <th>84853</th>\n",
       "      <td>943</td>\n",
       "      <td>182</td>\n",
       "      <td>5</td>\n",
       "      <td>888639066</td>\n",
       "    </tr>\n",
       "    <tr>\n",
       "      <th>91861</th>\n",
       "      <td>943</td>\n",
       "      <td>56</td>\n",
       "      <td>5</td>\n",
       "      <td>888639269</td>\n",
       "    </tr>\n",
       "    <tr>\n",
       "      <th>98422</th>\n",
       "      <td>943</td>\n",
       "      <td>672</td>\n",
       "      <td>5</td>\n",
       "      <td>888640125</td>\n",
       "    </tr>\n",
       "    <tr>\n",
       "      <th>94429</th>\n",
       "      <td>943</td>\n",
       "      <td>239</td>\n",
       "      <td>5</td>\n",
       "      <td>888639867</td>\n",
       "    </tr>\n",
       "    <tr>\n",
       "      <th>80701</th>\n",
       "      <td>943</td>\n",
       "      <td>928</td>\n",
       "      <td>5</td>\n",
       "      <td>875502074</td>\n",
       "    </tr>\n",
       "    <tr>\n",
       "      <th>97804</th>\n",
       "      <td>943</td>\n",
       "      <td>69</td>\n",
       "      <td>5</td>\n",
       "      <td>888639427</td>\n",
       "    </tr>\n",
       "    <tr>\n",
       "      <th>88367</th>\n",
       "      <td>943</td>\n",
       "      <td>282</td>\n",
       "      <td>5</td>\n",
       "      <td>875502230</td>\n",
       "    </tr>\n",
       "    <tr>\n",
       "      <th>90271</th>\n",
       "      <td>943</td>\n",
       "      <td>194</td>\n",
       "      <td>5</td>\n",
       "      <td>888639192</td>\n",
       "    </tr>\n",
       "    <tr>\n",
       "      <th>98286</th>\n",
       "      <td>943</td>\n",
       "      <td>196</td>\n",
       "      <td>5</td>\n",
       "      <td>888639192</td>\n",
       "    </tr>\n",
       "    <tr>\n",
       "      <th>87564</th>\n",
       "      <td>943</td>\n",
       "      <td>233</td>\n",
       "      <td>5</td>\n",
       "      <td>888639327</td>\n",
       "    </tr>\n",
       "    <tr>\n",
       "      <th>70902</th>\n",
       "      <td>943</td>\n",
       "      <td>12</td>\n",
       "      <td>5</td>\n",
       "      <td>888639093</td>\n",
       "    </tr>\n",
       "    <tr>\n",
       "      <th>71726</th>\n",
       "      <td>943</td>\n",
       "      <td>471</td>\n",
       "      <td>5</td>\n",
       "      <td>875502042</td>\n",
       "    </tr>\n",
       "    <tr>\n",
       "      <th>73414</th>\n",
       "      <td>943</td>\n",
       "      <td>184</td>\n",
       "      <td>5</td>\n",
       "      <td>888639247</td>\n",
       "    </tr>\n",
       "    <tr>\n",
       "      <th>85483</th>\n",
       "      <td>943</td>\n",
       "      <td>508</td>\n",
       "      <td>5</td>\n",
       "      <td>875501795</td>\n",
       "    </tr>\n",
       "    <tr>\n",
       "      <th>79678</th>\n",
       "      <td>943</td>\n",
       "      <td>55</td>\n",
       "      <td>5</td>\n",
       "      <td>888639118</td>\n",
       "    </tr>\n",
       "    <tr>\n",
       "      <th>73982</th>\n",
       "      <td>943</td>\n",
       "      <td>127</td>\n",
       "      <td>5</td>\n",
       "      <td>875501774</td>\n",
       "    </tr>\n",
       "    <tr>\n",
       "      <th>95923</th>\n",
       "      <td>943</td>\n",
       "      <td>92</td>\n",
       "      <td>5</td>\n",
       "      <td>888639660</td>\n",
       "    </tr>\n",
       "    <tr>\n",
       "      <th>93454</th>\n",
       "      <td>943</td>\n",
       "      <td>205</td>\n",
       "      <td>5</td>\n",
       "      <td>888639478</td>\n",
       "    </tr>\n",
       "    <tr>\n",
       "      <th>85770</th>\n",
       "      <td>943</td>\n",
       "      <td>187</td>\n",
       "      <td>5</td>\n",
       "      <td>888639147</td>\n",
       "    </tr>\n",
       "    <tr>\n",
       "      <th>70174</th>\n",
       "      <td>943</td>\n",
       "      <td>186</td>\n",
       "      <td>5</td>\n",
       "      <td>888639478</td>\n",
       "    </tr>\n",
       "    <tr>\n",
       "      <th>76855</th>\n",
       "      <td>943</td>\n",
       "      <td>943</td>\n",
       "      <td>5</td>\n",
       "      <td>888639614</td>\n",
       "    </tr>\n",
       "    <tr>\n",
       "      <th>81296</th>\n",
       "      <td>943</td>\n",
       "      <td>98</td>\n",
       "      <td>5</td>\n",
       "      <td>888638980</td>\n",
       "    </tr>\n",
       "    <tr>\n",
       "      <th>84323</th>\n",
       "      <td>943</td>\n",
       "      <td>64</td>\n",
       "      <td>5</td>\n",
       "      <td>875409939</td>\n",
       "    </tr>\n",
       "    <tr>\n",
       "      <th>90134</th>\n",
       "      <td>943</td>\n",
       "      <td>2</td>\n",
       "      <td>5</td>\n",
       "      <td>888639953</td>\n",
       "    </tr>\n",
       "    <tr>\n",
       "      <th>83420</th>\n",
       "      <td>943</td>\n",
       "      <td>485</td>\n",
       "      <td>5</td>\n",
       "      <td>888639523</td>\n",
       "    </tr>\n",
       "    <tr>\n",
       "      <th>...</th>\n",
       "      <td>...</td>\n",
       "      <td>...</td>\n",
       "      <td>...</td>\n",
       "      <td>...</td>\n",
       "    </tr>\n",
       "    <tr>\n",
       "      <th>80400</th>\n",
       "      <td>943</td>\n",
       "      <td>421</td>\n",
       "      <td>2</td>\n",
       "      <td>888639351</td>\n",
       "    </tr>\n",
       "    <tr>\n",
       "      <th>99133</th>\n",
       "      <td>943</td>\n",
       "      <td>1047</td>\n",
       "      <td>2</td>\n",
       "      <td>875502146</td>\n",
       "    </tr>\n",
       "    <tr>\n",
       "      <th>96962</th>\n",
       "      <td>943</td>\n",
       "      <td>185</td>\n",
       "      <td>2</td>\n",
       "      <td>888639370</td>\n",
       "    </tr>\n",
       "    <tr>\n",
       "      <th>93177</th>\n",
       "      <td>943</td>\n",
       "      <td>80</td>\n",
       "      <td>2</td>\n",
       "      <td>888640048</td>\n",
       "    </tr>\n",
       "    <tr>\n",
       "      <th>94914</th>\n",
       "      <td>943</td>\n",
       "      <td>229</td>\n",
       "      <td>2</td>\n",
       "      <td>888693158</td>\n",
       "    </tr>\n",
       "    <tr>\n",
       "      <th>72218</th>\n",
       "      <td>943</td>\n",
       "      <td>595</td>\n",
       "      <td>2</td>\n",
       "      <td>875502597</td>\n",
       "    </tr>\n",
       "    <tr>\n",
       "      <th>91550</th>\n",
       "      <td>943</td>\n",
       "      <td>231</td>\n",
       "      <td>2</td>\n",
       "      <td>888640186</td>\n",
       "    </tr>\n",
       "    <tr>\n",
       "      <th>94874</th>\n",
       "      <td>943</td>\n",
       "      <td>785</td>\n",
       "      <td>2</td>\n",
       "      <td>888640088</td>\n",
       "    </tr>\n",
       "    <tr>\n",
       "      <th>72652</th>\n",
       "      <td>943</td>\n",
       "      <td>1011</td>\n",
       "      <td>2</td>\n",
       "      <td>875502560</td>\n",
       "    </tr>\n",
       "    <tr>\n",
       "      <th>97845</th>\n",
       "      <td>943</td>\n",
       "      <td>168</td>\n",
       "      <td>2</td>\n",
       "      <td>888638897</td>\n",
       "    </tr>\n",
       "    <tr>\n",
       "      <th>73242</th>\n",
       "      <td>943</td>\n",
       "      <td>412</td>\n",
       "      <td>2</td>\n",
       "      <td>875501856</td>\n",
       "    </tr>\n",
       "    <tr>\n",
       "      <th>82198</th>\n",
       "      <td>943</td>\n",
       "      <td>402</td>\n",
       "      <td>2</td>\n",
       "      <td>888639702</td>\n",
       "    </tr>\n",
       "    <tr>\n",
       "      <th>94410</th>\n",
       "      <td>943</td>\n",
       "      <td>419</td>\n",
       "      <td>2</td>\n",
       "      <td>888638920</td>\n",
       "    </tr>\n",
       "    <tr>\n",
       "      <th>72754</th>\n",
       "      <td>943</td>\n",
       "      <td>549</td>\n",
       "      <td>1</td>\n",
       "      <td>888639772</td>\n",
       "    </tr>\n",
       "    <tr>\n",
       "      <th>81005</th>\n",
       "      <td>943</td>\n",
       "      <td>450</td>\n",
       "      <td>1</td>\n",
       "      <td>888693158</td>\n",
       "    </tr>\n",
       "    <tr>\n",
       "      <th>83265</th>\n",
       "      <td>943</td>\n",
       "      <td>122</td>\n",
       "      <td>1</td>\n",
       "      <td>875502576</td>\n",
       "    </tr>\n",
       "    <tr>\n",
       "      <th>89589</th>\n",
       "      <td>943</td>\n",
       "      <td>399</td>\n",
       "      <td>1</td>\n",
       "      <td>888639886</td>\n",
       "    </tr>\n",
       "    <tr>\n",
       "      <th>67975</th>\n",
       "      <td>943</td>\n",
       "      <td>570</td>\n",
       "      <td>1</td>\n",
       "      <td>888640125</td>\n",
       "    </tr>\n",
       "    <tr>\n",
       "      <th>80660</th>\n",
       "      <td>943</td>\n",
       "      <td>720</td>\n",
       "      <td>1</td>\n",
       "      <td>888640048</td>\n",
       "    </tr>\n",
       "    <tr>\n",
       "      <th>74655</th>\n",
       "      <td>943</td>\n",
       "      <td>51</td>\n",
       "      <td>1</td>\n",
       "      <td>888640088</td>\n",
       "    </tr>\n",
       "    <tr>\n",
       "      <th>93377</th>\n",
       "      <td>943</td>\n",
       "      <td>449</td>\n",
       "      <td>1</td>\n",
       "      <td>888693158</td>\n",
       "    </tr>\n",
       "    <tr>\n",
       "      <th>95003</th>\n",
       "      <td>943</td>\n",
       "      <td>230</td>\n",
       "      <td>1</td>\n",
       "      <td>888693158</td>\n",
       "    </tr>\n",
       "    <tr>\n",
       "      <th>98752</th>\n",
       "      <td>943</td>\n",
       "      <td>139</td>\n",
       "      <td>1</td>\n",
       "      <td>888640027</td>\n",
       "    </tr>\n",
       "    <tr>\n",
       "      <th>96983</th>\n",
       "      <td>943</td>\n",
       "      <td>401</td>\n",
       "      <td>1</td>\n",
       "      <td>888639867</td>\n",
       "    </tr>\n",
       "    <tr>\n",
       "      <th>95427</th>\n",
       "      <td>943</td>\n",
       "      <td>941</td>\n",
       "      <td>1</td>\n",
       "      <td>888639725</td>\n",
       "    </tr>\n",
       "    <tr>\n",
       "      <th>95129</th>\n",
       "      <td>943</td>\n",
       "      <td>724</td>\n",
       "      <td>1</td>\n",
       "      <td>888639478</td>\n",
       "    </tr>\n",
       "    <tr>\n",
       "      <th>99171</th>\n",
       "      <td>943</td>\n",
       "      <td>415</td>\n",
       "      <td>1</td>\n",
       "      <td>888640027</td>\n",
       "    </tr>\n",
       "    <tr>\n",
       "      <th>96489</th>\n",
       "      <td>943</td>\n",
       "      <td>585</td>\n",
       "      <td>1</td>\n",
       "      <td>888640250</td>\n",
       "    </tr>\n",
       "    <tr>\n",
       "      <th>92536</th>\n",
       "      <td>943</td>\n",
       "      <td>227</td>\n",
       "      <td>1</td>\n",
       "      <td>888693158</td>\n",
       "    </tr>\n",
       "    <tr>\n",
       "      <th>95187</th>\n",
       "      <td>943</td>\n",
       "      <td>386</td>\n",
       "      <td>1</td>\n",
       "      <td>888640186</td>\n",
       "    </tr>\n",
       "  </tbody>\n",
       "</table>\n",
       "<p>167 rows × 4 columns</p>\n",
       "</div>"
      ],
      "text/plain": [
       "       user id  movie id  rating  timestamp\n",
       "80302      943       721       5  888639660\n",
       "88402      943       614       5  888639351\n",
       "95175      943       201       5  888639351\n",
       "85387      943        79       5  888639019\n",
       "83794      943        42       5  888639042\n",
       "84853      943       182       5  888639066\n",
       "91861      943        56       5  888639269\n",
       "98422      943       672       5  888640125\n",
       "94429      943       239       5  888639867\n",
       "80701      943       928       5  875502074\n",
       "97804      943        69       5  888639427\n",
       "88367      943       282       5  875502230\n",
       "90271      943       194       5  888639192\n",
       "98286      943       196       5  888639192\n",
       "87564      943       233       5  888639327\n",
       "70902      943        12       5  888639093\n",
       "71726      943       471       5  875502042\n",
       "73414      943       184       5  888639247\n",
       "85483      943       508       5  875501795\n",
       "79678      943        55       5  888639118\n",
       "73982      943       127       5  875501774\n",
       "95923      943        92       5  888639660\n",
       "93454      943       205       5  888639478\n",
       "85770      943       187       5  888639147\n",
       "70174      943       186       5  888639478\n",
       "76855      943       943       5  888639614\n",
       "81296      943        98       5  888638980\n",
       "84323      943        64       5  875409939\n",
       "90134      943         2       5  888639953\n",
       "83420      943       485       5  888639523\n",
       "...        ...       ...     ...        ...\n",
       "80400      943       421       2  888639351\n",
       "99133      943      1047       2  875502146\n",
       "96962      943       185       2  888639370\n",
       "93177      943        80       2  888640048\n",
       "94914      943       229       2  888693158\n",
       "72218      943       595       2  875502597\n",
       "91550      943       231       2  888640186\n",
       "94874      943       785       2  888640088\n",
       "72652      943      1011       2  875502560\n",
       "97845      943       168       2  888638897\n",
       "73242      943       412       2  875501856\n",
       "82198      943       402       2  888639702\n",
       "94410      943       419       2  888638920\n",
       "72754      943       549       1  888639772\n",
       "81005      943       450       1  888693158\n",
       "83265      943       122       1  875502576\n",
       "89589      943       399       1  888639886\n",
       "67975      943       570       1  888640125\n",
       "80660      943       720       1  888640048\n",
       "74655      943        51       1  888640088\n",
       "93377      943       449       1  888693158\n",
       "95003      943       230       1  888693158\n",
       "98752      943       139       1  888640027\n",
       "96983      943       401       1  888639867\n",
       "95427      943       941       1  888639725\n",
       "95129      943       724       1  888639478\n",
       "99171      943       415       1  888640027\n",
       "96489      943       585       1  888640250\n",
       "92536      943       227       1  888693158\n",
       "95187      943       386       1  888640186\n",
       "\n",
       "[167 rows x 4 columns]"
      ]
     },
     "execution_count": 23,
     "metadata": {},
     "output_type": "execute_result"
    }
   ],
   "source": [
    "ratings_test = ratings_test.sort_values(by = ['rating'], ascending = False)    # rating을 기준으로 내림차순 정렬을 한다\n",
    "ratings_test"
   ]
  },
  {
   "cell_type": "code",
   "execution_count": 24,
   "metadata": {
    "collapsed": true
   },
   "outputs": [],
   "source": [
    "# pandas의 as_matrix() 함수로 dataframe을 numpy array로 바꾼다\n",
    "ratings_train = ratings_train.as_matrix(columns = ['user id', 'movie id', 'rating'])\n",
    "ratings_test = ratings_test.as_matrix(columns = ['user id', 'movie id', 'rating'])"
   ]
  },
  {
   "cell_type": "code",
   "execution_count": 25,
   "metadata": {},
   "outputs": [
    {
     "name": "stdout",
     "output_type": "stream",
     "text": [
      "(99832, 3)\n",
      "(167, 3)\n"
     ]
    }
   ],
   "source": [
    "# numpy array로 바꾸어도 shape는 그대로 유지된다\n",
    "print(ratings_train.shape)\n",
    "print(ratings_test.shape)"
   ]
  },
  {
   "cell_type": "code",
   "execution_count": 37,
   "metadata": {},
   "outputs": [
    {
     "name": "stdout",
     "output_type": "stream",
     "text": [
      "[[ 943  721    5]\n",
      " [ 943  614    5]\n",
      " [ 943  201    5]\n",
      " [ 943   79    5]\n",
      " [ 943   42    5]\n",
      " [ 943  182    5]\n",
      " [ 943   56    5]\n",
      " [ 943  672    5]\n",
      " [ 943  239    5]\n",
      " [ 943  928    5]\n",
      " [ 943   69    5]\n",
      " [ 943  282    5]\n",
      " [ 943  194    5]\n",
      " [ 943  196    5]\n",
      " [ 943  233    5]\n",
      " [ 943   12    5]\n",
      " [ 943  471    5]\n",
      " [ 943  184    5]\n",
      " [ 943  508    5]\n",
      " [ 943   55    5]\n",
      " [ 943  127    5]\n",
      " [ 943   92    5]\n",
      " [ 943  205    5]\n",
      " [ 943  187    5]\n",
      " [ 943  186    5]\n",
      " [ 943  943    5]\n",
      " [ 943   98    5]\n",
      " [ 943   64    5]\n",
      " [ 943    2    5]\n",
      " [ 943  485    5]\n",
      " [ 943  173    5]\n",
      " [ 943  475    5]\n",
      " [ 943  100    5]\n",
      " [ 943  195    4]\n",
      " [ 943  172    4]\n",
      " [ 943  356    4]\n",
      " [ 943   28    4]\n",
      " [ 943   24    4]\n",
      " [ 943   22    4]\n",
      " [ 943  200    4]\n",
      " [ 943   68    4]\n",
      " [ 943  367    4]\n",
      " [ 943  546    4]\n",
      " [ 943   41    4]\n",
      " [ 943  763    4]\n",
      " [ 943  210    4]\n",
      " [ 943  816    4]\n",
      " [ 943  232    4]\n",
      " [ 943  732    4]\n",
      " [ 943  685    4]\n",
      " [ 943  559    4]\n",
      " [ 943  655    4]\n",
      " [ 943  161    4]\n",
      " [ 943  219    4]\n",
      " [ 943  824    4]\n",
      " [ 943   76    4]\n",
      " [ 943  188    4]\n",
      " [ 943  739    4]\n",
      " [ 943  385    4]\n",
      " [ 943 1074    4]\n",
      " [ 943  541    4]\n",
      " [ 943  717    4]\n",
      " [ 943  581    4]\n",
      " [ 943  281    4]\n",
      " [ 943   27    4]\n",
      " [ 943  218    4]\n",
      " [ 943   67    4]\n",
      " [ 943  576    4]\n",
      " [ 943  216    4]\n",
      " [ 943  226    4]\n",
      " [ 943   94    4]\n",
      " [ 943  181    4]\n",
      " [ 943  111    4]\n",
      " [ 943  193    4]\n",
      " [ 943   23    4]\n",
      " [ 943  840    4]\n",
      " [ 943  526    4]\n",
      " [ 943  470    4]\n",
      " [ 943   11    4]\n",
      " [ 943   54    4]\n",
      " [ 943   58    4]\n",
      " [ 943   50    4]\n",
      " [ 943  808    4]\n",
      " [ 943   31    4]\n",
      " [ 943   96    4]\n",
      " [ 943  431    4]\n",
      " [ 943  426    4]\n",
      " [ 943  174    4]\n",
      " [ 943  117    4]\n",
      " [ 943  151    4]\n",
      " [ 943  566    4]\n",
      " [ 943  237    4]\n",
      " [ 943  403    4]\n",
      " [ 943  427    4]\n",
      " [ 943  405    4]\n",
      " [ 943 1228    3]\n",
      " [ 943  132    3]\n",
      " [ 943 1330    3]\n",
      " [ 943   62    3]\n",
      " [ 943  722    3]\n",
      " [ 943  794    3]\n",
      " [ 943  121    3]\n",
      " [ 943   38    3]\n",
      " [ 943  423    3]\n",
      " [ 943  625    3]\n",
      " [ 943  406    3]\n",
      " [ 943  825    3]\n",
      " [ 943  796    3]\n",
      " [ 943    9    3]\n",
      " [ 943  373    3]\n",
      " [ 943  204    3]\n",
      " [ 943  234    3]\n",
      " [ 943 1188    3]\n",
      " [ 943 1044    3]\n",
      " [ 943   53    3]\n",
      " [ 943  217    3]\n",
      " [ 943  274    3]\n",
      " [ 943  124    3]\n",
      " [ 943  228    3]\n",
      " [ 943  318    3]\n",
      " [ 943  568    3]\n",
      " [ 943  765    3]\n",
      " [ 943   73    3]\n",
      " [ 943  569    2]\n",
      " [ 943  831    2]\n",
      " [ 943  443    2]\n",
      " [ 943 1028    2]\n",
      " [ 943   97    2]\n",
      " [ 943  468    2]\n",
      " [ 943  202    2]\n",
      " [ 943  609    2]\n",
      " [ 943  756    2]\n",
      " [ 943  393    2]\n",
      " [ 943 1067    2]\n",
      " [ 943   72    2]\n",
      " [ 943  391    2]\n",
      " [ 943  284    2]\n",
      " [ 943  421    2]\n",
      " [ 943 1047    2]\n",
      " [ 943  185    2]\n",
      " [ 943   80    2]\n",
      " [ 943  229    2]\n",
      " [ 943  595    2]\n",
      " [ 943  231    2]\n",
      " [ 943  785    2]\n",
      " [ 943 1011    2]\n",
      " [ 943  168    2]\n",
      " [ 943  412    2]\n",
      " [ 943  402    2]\n",
      " [ 943  419    2]\n",
      " [ 943  549    1]\n",
      " [ 943  450    1]\n",
      " [ 943  122    1]\n",
      " [ 943  399    1]\n",
      " [ 943  570    1]\n",
      " [ 943  720    1]\n",
      " [ 943   51    1]\n",
      " [ 943  449    1]\n",
      " [ 943  230    1]\n",
      " [ 943  139    1]\n",
      " [ 943  401    1]\n",
      " [ 943  941    1]\n",
      " [ 943  724    1]\n",
      " [ 943  415    1]\n",
      " [ 943  585    1]\n",
      " [ 943  227    1]\n",
      " [ 943  386    1]]\n"
     ]
    }
   ],
   "source": [
    "print(ratings_test)"
   ]
  },
  {
   "cell_type": "code",
   "execution_count": 33,
   "metadata": {
    "collapsed": true
   },
   "outputs": [],
   "source": [
    "num_recommendations = 5    # 추천하고 싶은 영화의 개수 - 사용자가 임의로 지정할 수 있다"
   ]
  },
  {
   "cell_type": "code",
   "execution_count": 34,
   "metadata": {
    "collapsed": true
   },
   "outputs": [],
   "source": [
    "favored_items = []\n",
    "for i in range(num_recommendations):\n",
    "    favored_items.append(ratings_test[i][1])"
   ]
  },
  {
   "cell_type": "code",
   "execution_count": 35,
   "metadata": {},
   "outputs": [
    {
     "data": {
      "text/plain": [
       "[721, 614, 201, 79, 42]"
      ]
     },
     "execution_count": 35,
     "metadata": {},
     "output_type": "execute_result"
    }
   ],
   "source": [
    "favored_items    # user 943이 선호한 아이템 목록"
   ]
  },
  {
   "cell_type": "markdown",
   "metadata": {},
   "source": [
    "## Item-item similarity calculation\n",
    "- 각 영화 간의 유사도(거리)를 계산한다\n",
    "- 유사도의 기준은 장르(action, adventure, animation, crime 등)의 유사성이다\n",
    "- 결과로 1682 X 1682 크기의 행렬이 반환된다"
   ]
  },
  {
   "cell_type": "code",
   "execution_count": 39,
   "metadata": {
    "collapsed": true
   },
   "outputs": [],
   "source": [
    "def EucledianDist(item1, item2):    # 두 영화 간의 거리를 계산하기 위한 함수를 정의한다\n",
    "    s = 0\n",
    "    v1 = item1[5:]\n",
    "    v2 = item2[5:]\n",
    "    \n",
    "    for i in range(len(v1)):\n",
    "        temp = (v1[i]-v2[i])*(v1[i]-v2[i])    # 각 원소를 서로 뺀 후에 제곱근 해 모두 더한다\n",
    "        s += temp\n",
    "    return math.sqrt(s)"
   ]
  },
  {
   "cell_type": "code",
   "execution_count": 40,
   "metadata": {
    "collapsed": true
   },
   "outputs": [],
   "source": [
    "items = items.as_matrix()    # items 데이터프레임을 numPy 배열로 변환한다"
   ]
  },
  {
   "cell_type": "code",
   "execution_count": 41,
   "metadata": {},
   "outputs": [
    {
     "data": {
      "text/plain": [
       "array([[1, 'Toy Story (1995)', '01-Jan-1995', ..., 0, 0, 0],\n",
       "       [2, 'GoldenEye (1995)', '01-Jan-1995', ..., 1, 0, 0],\n",
       "       [3, 'Four Rooms (1995)', '01-Jan-1995', ..., 1, 0, 0],\n",
       "       ..., \n",
       "       [1680, 'Sliding Doors (1998)', '01-Jan-1998', ..., 0, 0, 0],\n",
       "       [1681, 'You So Crazy (1994)', '01-Jan-1994', ..., 0, 0, 0],\n",
       "       [1682, 'Scream of Stone (Schrei aus Stein) (1991)', '08-Mar-1996',\n",
       "        ..., 0, 0, 0]], dtype=object)"
      ]
     },
     "execution_count": 41,
     "metadata": {},
     "output_type": "execute_result"
    }
   ],
   "source": [
    "items"
   ]
  },
  {
   "cell_type": "code",
   "execution_count": 43,
   "metadata": {
    "collapsed": true
   },
   "outputs": [],
   "source": [
    "distance_matrix = np.zeros((1682, 1682))    # 1682X1682 크기의 0으로 이루어진 행렬을 생성한다"
   ]
  },
  {
   "cell_type": "code",
   "execution_count": 44,
   "metadata": {
    "collapsed": true
   },
   "outputs": [],
   "source": [
    "for i in range(len(items)):\n",
    "    for j in range(len(items)):\n",
    "        distance_matrix[i][j] = EucledianDist(items[i], items[j])    # 영행렬의 각 원소를 각 열번호와 행번호의 영화 간의 거리로 계산해 담는다"
   ]
  },
  {
   "cell_type": "code",
   "execution_count": 45,
   "metadata": {},
   "outputs": [
    {
     "data": {
      "text/plain": [
       "array([[ 0.        ,  2.44948974,  2.        , ...,  2.23606798,\n",
       "         1.41421356,  2.        ],\n",
       "       [ 2.44948974,  0.        ,  1.41421356, ...,  2.23606798,\n",
       "         2.        ,  2.        ],\n",
       "       [ 2.        ,  1.41421356,  0.        , ...,  1.73205081,\n",
       "         1.41421356,  1.41421356],\n",
       "       ..., \n",
       "       [ 2.23606798,  2.23606798,  1.73205081, ...,  0.        ,\n",
       "         1.73205081,  1.        ],\n",
       "       [ 1.41421356,  2.        ,  1.41421356, ...,  1.73205081,\n",
       "         0.        ,  1.41421356],\n",
       "       [ 2.        ,  2.        ,  1.41421356, ...,  1.        ,\n",
       "         1.41421356,  0.        ]])"
      ]
     },
     "execution_count": 45,
     "metadata": {},
     "output_type": "execute_result"
    }
   ],
   "source": [
    "distance_matrix    # 각 영화 간의 거리를 나타내는 2차원 배열(행렬)"
   ]
  },
  {
   "cell_type": "markdown",
   "metadata": {},
   "source": [
    "## Recommendation for user 943\n",
    "- user 943을 위한 추천 영화 리스트를 작성한다\n",
    "- user 943이 높게 평가한 영화들과 유사한 특성을 갖는(거리가 짧은) 영화들을 추천한다"
   ]
  },
  {
   "cell_type": "code",
   "execution_count": 52,
   "metadata": {
    "collapsed": true
   },
   "outputs": [],
   "source": [
    "recommended_movies = []\n",
    "for i in favored_items:\n",
    "    idx = np.argmin(distance_matrix[i])          # 각 영화와 가장 거리가 짧은 영화의 인덱스를 찾는다\n",
    "    recommended_movies.append(items[idx][1])     # 인덱스를 통해 그 영화의 이름을 찾아 리스트에 첨부한다"
   ]
  },
  {
   "cell_type": "code",
   "execution_count": 53,
   "metadata": {},
   "outputs": [
    {
     "name": "stdout",
     "output_type": "stream",
     "text": [
      "Mighty Aphrodite (1995)\n",
      "Four Rooms (1995)\n",
      "French Twist (Gazon maudit) (1995)\n",
      "Hot Shots! Part Deux (1993)\n",
      "Taxi Driver (1976)\n"
     ]
    }
   ],
   "source": [
    "# 추천 영화를 출력한다\n",
    "for movie in recommended_movies:\n",
    "    print(movie)"
   ]
  }
 ],
 "metadata": {
  "kernelspec": {
   "display_name": "Python 3",
   "language": "python",
   "name": "python3"
  },
  "language_info": {
   "codemirror_mode": {
    "name": "ipython",
    "version": 3
   },
   "file_extension": ".py",
   "mimetype": "text/x-python",
   "name": "python",
   "nbconvert_exporter": "python",
   "pygments_lexer": "ipython3",
   "version": "3.6.1"
  }
 },
 "nbformat": 4,
 "nbformat_minor": 2
}
